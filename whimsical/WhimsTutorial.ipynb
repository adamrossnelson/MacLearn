{
 "cells": [
  {
   "cell_type": "markdown",
   "metadata": {},
   "source": [
    "# Overview\n",
    "\n",
    "Notes and code taken from this [Anaconda tutorial](https://know.anaconda.com/rs/387-XNW-688/images/ML.html).\n",
    "\n",
    "This tutorial utilizes the [Learning about Humans learning ML.csv](https://goo.gl/WgTQMX) dataset. - Which is Copyrighted © Anaconda Inc. 2018. Also, [saved locally](https://github.com/adamrossnelson/MacLearn/LearningAboutHumans LearningML.csv/)."
   ]
  },
  {
   "cell_type": "code",
   "execution_count": null,
   "metadata": {},
   "outputs": [],
   "source": []
  }
 ],
 "metadata": {
  "kernelspec": {
   "display_name": "Python 3",
   "language": "python",
   "name": "python3"
  },
  "language_info": {
   "codemirror_mode": {
    "name": "ipython",
    "version": 3
   },
   "file_extension": ".py",
   "mimetype": "text/x-python",
   "name": "python",
   "nbconvert_exporter": "python",
   "pygments_lexer": "ipython3",
   "version": "3.6.4"
  }
 },
 "nbformat": 4,
 "nbformat_minor": 2
}
